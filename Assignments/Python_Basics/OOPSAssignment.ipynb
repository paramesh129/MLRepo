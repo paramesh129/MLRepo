{
 "cells": [
  {
   "cell_type": "markdown",
   "id": "ff4ad62d",
   "metadata": {},
   "source": [
    "# 1. Write a Python program to demonstrate multiple inheritance.\n",
    "1. Employee class has 3 data members EmployeeID, Gender (String), Salary and\n",
    "PerformanceRating(Out of 5) of type int. It has a get() function to get these details from\n",
    "the user.\n",
    "2. JoiningDetail class has a data member DateOfJoining of type Date and a function\n",
    "getDoJ to get the Date of joining of employees.\n",
    "3. Information Class uses the marks from Employee class and the DateOfJoining date\n",
    "from the JoiningDetail class to calculate the top 3 Employees based on their Ratings and then Display, using readData, all the details on these employees in Ascending order of their Date Of Joining.\n"
   ]
  },
  {
   "cell_type": "code",
   "execution_count": 42,
   "id": "a09aa5f9",
   "metadata": {},
   "outputs": [],
   "source": [
    "from datetime import datetime\n",
    "class employee:\n",
    "    def __init__(self):\n",
    "        (self.employeeID, self.gender,self.salary, self.performanceRating) = (0,\" \", 0, 0.0)\n",
    "    def getEmplDetails(self):\n",
    "        self.employeeID = int(input(\"Enter the EmployeeID: \"))\n",
    "        self.gender = str(input(\"Enter the Gender: \"))\n",
    "        self.salary = int(input(\"Enter the Salary: \"))\n",
    "        self.performanceRating = float(input(\"Enter the performance rating on a scale 1-5: \"))\n",
    "        return"
   ]
  },
  {
   "cell_type": "code",
   "execution_count": 43,
   "id": "0a32d4ad",
   "metadata": {},
   "outputs": [],
   "source": [
    "class JoiningDetail:\n",
    "    def __init__(self):\n",
    "        self.DOJ = datetime.now()\n",
    "    def getDOJ(self):\n",
    "        self.DOJ = datetime.strptime(input(\"Enter the date of joining in 'mm-dd-yyyy' format: \"), '%m-%d-%Y').date()\n",
    "        return\n",
    "    \n",
    "    "
   ]
  },
  {
   "cell_type": "code",
   "execution_count": 49,
   "id": "ac1730f6",
   "metadata": {},
   "outputs": [],
   "source": [
    "class Information(employee, JoiningDetail):\n",
    "    def __init__(self):\n",
    "        employee.__init__(self)\n",
    "        JoiningDetail.__init__(self)\n",
    "        self.employeeData = []     \n",
    "    def readData(self):\n",
    "        n = int(input(\"Enter the number of employees\"))\n",
    "        for i in range(n):\n",
    "            employee = Information()\n",
    "            employee.getEmplDetails()\n",
    "            employee.getDOJ()\n",
    "            self.employeeData.append(employee)\n",
    "        return\n",
    "    def dispTopEmployees(self):\n",
    "        print(len(self.employeeData))\n",
    "        top3Employees = sorted(self.employeeData, key = lambda x: x.performanceRating, reverse = True)[:3]\n",
    "        top3Employees = sorted(top3Employees, key = lambda x: x.DOJ)\n",
    "        print(\"top 3 employees in ascending order of joining date\", end = '\\n')\n",
    "        for employee in top3Employees:\n",
    "            print(\"Employee ID: {}\".format(employee.employeeID))\n",
    "            print(\"Employee Gender: {}\".format(employee.gender))\n",
    "            print(\"Employee Salary: {}\".format(employee.salary))\n",
    "            print(\"Employee DOJ: {}\".format(employee.DOJ))\n",
    "        return\n",
    "        \n",
    "        \n",
    "        \n",
    "        \n",
    "        \n",
    "    "
   ]
  },
  {
   "cell_type": "code",
   "execution_count": 50,
   "id": "67acb456",
   "metadata": {},
   "outputs": [],
   "source": [
    "info = Information()"
   ]
  },
  {
   "cell_type": "code",
   "execution_count": 51,
   "id": "e2062008",
   "metadata": {},
   "outputs": [
    {
     "name": "stdout",
     "output_type": "stream",
     "text": [
      "Enter the number of employees2\n",
      "Enter the EmployeeID: 1\n",
      "Enter the Gender: M\n",
      "Enter the Salary: 10\n",
      "Enter the performance rating on a scale 1-5: 2\n",
      "Enter the date of joining in 'mm-dd-yyyy' format: 10-05-1992\n",
      "Enter the EmployeeID: 3\n",
      "Enter the Gender: M\n",
      "Enter the Salary: 12\n",
      "Enter the performance rating on a scale 1-5: 3\n",
      "Enter the date of joining in 'mm-dd-yyyy' format: 10-05-1993\n",
      "2\n",
      "top 3 employees in ascending order of joining date\n",
      "Employee ID: 1\n",
      "Employee Gender: M\n",
      "Employee Salary: 10\n",
      "Employee DOJ: 1992-10-05\n",
      "Employee ID: 3\n",
      "Employee Gender: M\n",
      "Employee Salary: 12\n",
      "Employee DOJ: 1993-10-05\n"
     ]
    }
   ],
   "source": [
    "info.readData()\n",
    "info.dispTopEmployees()"
   ]
  },
  {
   "cell_type": "markdown",
   "id": "48517065",
   "metadata": {},
   "source": [
    "# 2. Write a Python program to demonstrate Polymorphism.\n",
    "1. Class Vehicle with a parameterized function Fare, that takes input value as fare and\n",
    "returns it to calling Objects.\n",
    "2. Create five separate variables Bus, Car, Train, Truck and Ship that call the Fare\n",
    "function.\n",
    "3. Use a third variable TotalFare to store the sum of fare for each Vehicle Type.\n",
    "4. Print the TotalFare."
   ]
  },
  {
   "cell_type": "code",
   "execution_count": 54,
   "id": "78eb9e4c",
   "metadata": {},
   "outputs": [
    {
     "name": "stdout",
     "output_type": "stream",
     "text": [
      "3350\n"
     ]
    }
   ],
   "source": [
    "class vehicle:\n",
    "    def __init__(self):\n",
    "        self.fare = 0\n",
    "    def Fare(self, fare:int):\n",
    "        self.fare = fare\n",
    "Bus = vehicle()\n",
    "Car = vehicle()\n",
    "Train = vehicle()\n",
    "Truck = vehicle()\n",
    "Ship = vehicle()\n",
    "Bus.Fare(100)\n",
    "Car.Fare(200)\n",
    "Train.Fare(50)\n",
    "Truck.Fare(1000)\n",
    "Ship.Fare(2000)\n",
    "TotalFare = Bus.fare + Car.fare + Train.fare + Truck.fare + Ship.fare\n",
    "print(TotalFare)\n",
    "\n",
    "        "
   ]
  },
  {
   "cell_type": "markdown",
   "id": "75e76635",
   "metadata": {},
   "source": [
    "# 3. Consider an ongoing test cricket series. Following are the names of the players and their\n",
    "\n",
    "scores in the test1 and 2.\n",
    "Test Match 1 :\n",
    "Dhoni : 56 , Balaji : 94\n",
    "Test Match 2 :\n",
    "Balaji : 80 , Dravid : 105\n",
    "Calculate the highest number of runs scored by an individual cricketer in both of the matches.\n",
    "Create a python function Max_Score (M) that reads a dictionary M that recognizes the player\n",
    "with the highest total score. This function will return ( Top player , Total Score ) . You can\n",
    "consider the Top player as String who is the highest scorer and Top score as Integer .\n",
    "Input : Max_Score({‘test1’:{‘Dhoni’:56, ‘Balaji : 85}, ‘test2’:{‘Dhoni’ 87, ‘Balaji’’:200}})\n",
    "Output : (‘Balaji ‘ , 200)\n"
   ]
  },
  {
   "cell_type": "code",
   "execution_count": 80,
   "id": "93851d70",
   "metadata": {},
   "outputs": [
    {
     "name": "stdout",
     "output_type": "stream",
     "text": [
      "Enter the number of players: 2\n",
      "Enter the player name: Dhoni\n",
      "Enter the score: 56\n",
      "Enter the player name: Balaji\n",
      "Enter the score: 94\n",
      "Enter the number of players: 2\n",
      "Enter the player name: Balaji\n",
      "Enter the score: 80\n",
      "Enter the player name: Dravid\n",
      "Enter the score: 105\n"
     ]
    }
   ],
   "source": [
    "class Test:\n",
    "    def __init__(self):\n",
    "        self.Pname = []\n",
    "        self.Pscore = []\n",
    "    def loadData(self):\n",
    "        n = int(input(\"Enter the number of players: \"))\n",
    "        for _ in range(n):\n",
    "            self.Pname.append(input(\"Enter the player name: \"))\n",
    "            self.Pscore.append(int(input(\"Enter the score: \")))\n",
    "test1 = test()\n",
    "test1.loadData()\n",
    "test2 = test()\n",
    "test2.loadData()\n",
    "matches = [test1, test2]\n",
    "\n",
    "PlayerSummary = {}\n",
    "\n",
    "# Accumulate scores for each player\n",
    "for match in matches:\n",
    "    for name, score in zip(match.Pname, match.Pscore):\n",
    "        if name in PlayerSummary.keys():\n",
    "            PlayerSummary[name] += score\n",
    "        else:\n",
    "            PlayerSummary[name] = score"
   ]
  },
  {
   "cell_type": "code",
   "execution_count": 81,
   "id": "2527b2bc",
   "metadata": {},
   "outputs": [],
   "source": [
    "def Max_Score(PlayerSummary):\n",
    "    SortedPlayerSummary = dict(sorted(PlayerSummary.items(), key = lambda item: item[1], reverse = True))\n",
    "    topPlayer, topScore = next(iter(SortedPlayerSummary.items()), ('No Name', 0))\n",
    "    return (topPlayer, topScore)\n",
    "    "
   ]
  },
  {
   "cell_type": "code",
   "execution_count": 82,
   "id": "67acf814",
   "metadata": {},
   "outputs": [
    {
     "data": {
      "text/plain": [
       "('Balaji', 174)"
      ]
     },
     "execution_count": 82,
     "metadata": {},
     "output_type": "execute_result"
    }
   ],
   "source": [
    "Max_Score(PlayerSummary)"
   ]
  },
  {
   "cell_type": "markdown",
   "id": "7be78721",
   "metadata": {},
   "source": [
    "# 4. Create a simple Card game in which there are 8 cards which are randomly chosen from a\n",
    "deck. The first card is shown face up. The game asks the player to predict whether the next card\n",
    "in the selection will have a higher or lower value than the currently showing card."
   ]
  },
  {
   "cell_type": "code",
   "execution_count": 21,
   "id": "570c627d",
   "metadata": {},
   "outputs": [],
   "source": [
    "import random as rn\n",
    "class Game:\n",
    "    def __init__(self):\n",
    "        self.deckOfCards = ['A', 'K', 'Q', 'J', '10','9','8','7','6','5','4','3','2']\n",
    "    def drawNCards(self):\n",
    "        numberOfCardsDrawn = int(input(\"Enter how many cards you want to draw: \"))\n",
    "        drawnCards = []\n",
    "        for _ in range(numberOfCardsDrawn):\n",
    "            randomIndex = rn.randint(0,len(self.deckOfCards)-1)\n",
    "            print(randomIndex)\n",
    "            drawnCards.append(self.deckOfCards[randomIndex])\n",
    "        return drawnCards\n",
    "    def predictTheNextValue(self):\n",
    "        drawnCards = self.drawNCards()\n",
    "        firstCardValue = drawnCards[rn.randint(0,len(drawnCards)-1)]\n",
    "        valuePredicted = input(\"Enter next card value is higher or lower: \").lower()\n",
    "        nextCardValue = drawnCards[rn.randint(0,len(drawnCards)-1)]\n",
    "        isHigher = False\n",
    "        if self.deckOfCards.index(firstCardValue) >= self.deckOfCards.index(nextCardValue):\n",
    "            isHigher = True\n",
    "            print(\"Prediction is correct\")\n",
    "        else:\n",
    "            print(\"Prediction is not correct\")\n",
    "                \n",
    "            \n",
    "        \n",
    "        \n",
    "            \n",
    "        \n",
    "        \n",
    "        "
   ]
  },
  {
   "cell_type": "code",
   "execution_count": 29,
   "id": "4a98bb3d",
   "metadata": {},
   "outputs": [
    {
     "name": "stdout",
     "output_type": "stream",
     "text": [
      "Enter how many cards you want to draw: 8\n",
      "9\n",
      "4\n",
      "10\n",
      "10\n",
      "3\n",
      "7\n",
      "0\n",
      "2\n",
      "Enter next card value is higher or lower: lower\n",
      "Prediction is not correct\n"
     ]
    }
   ],
   "source": [
    "game = Game()\n",
    "game.predictTheNextValue()"
   ]
  },
  {
   "cell_type": "markdown",
   "id": "c7f6094d",
   "metadata": {},
   "source": [
    "# 5. Create an empty dictionary called Car_0 . Then fill the dictionary with Keys : color , speed, X_position and Y_position.\n",
    "car_0 = {'x_position': 10, 'y_position': 72, 'speed': 'medium'} .\n",
    "a) If the speed is slow the coordinates of the X_pos get incremented by 2.\n",
    "b) If the speed is Medium the coordinates of the X_pos gets incremented by 9\n",
    "c) Now if the speed is Fast the coordinates of the X_pos gets incremented by 22.\n",
    "Print the modified dictionary"
   ]
  },
  {
   "cell_type": "code",
   "execution_count": 33,
   "id": "d8f80817",
   "metadata": {},
   "outputs": [
    {
     "name": "stdout",
     "output_type": "stream",
     "text": [
      "Please enter the speed (slow/medium/fast) :medium\n",
      "19\n"
     ]
    }
   ],
   "source": [
    "car_0 = {}\n",
    "car_0['x_position'] = 10\n",
    "car_0['y_position'] = 72\n",
    "car_0['speed'] = \"medium\"\n",
    "speed = input(\"Please enter the speed (slow/medium/fast) :\").lower()\n",
    "if speed == 'slow':\n",
    "    car_0['x_position'] += 2\n",
    "    car_0['speed'] = speed\n",
    "elif speed == 'medium':\n",
    "    car_0['x_position'] += 9\n",
    "    car_0['speed'] = speed\n",
    "elif speed == 'fast':\n",
    "    car_0['x_position'] += 22\n",
    "    car_0['speed'] = speed \n",
    "print(car_0['x_position'])"
   ]
  },
  {
   "cell_type": "code",
   "execution_count": null,
   "id": "d0c2a201",
   "metadata": {},
   "outputs": [],
   "source": []
  },
  {
   "cell_type": "markdown",
   "id": "b8e7a99f",
   "metadata": {},
   "source": [
    "# 6. Show a basic implementation of abstraction in python using the abstract classes.\n",
    "1. Create an abstract class in python.\n",
    "2. Implement abstraction with the other classes and base class as abstract class"
   ]
  },
  {
   "cell_type": "code",
   "execution_count": 36,
   "id": "dcd853e5",
   "metadata": {},
   "outputs": [
    {
     "data": {
      "text/plain": [
       "62.800000000000004"
      ]
     },
     "execution_count": 36,
     "metadata": {},
     "output_type": "execute_result"
    }
   ],
   "source": [
    "class shape:\n",
    "    def area(self):\n",
    "        pass\n",
    "    def perimeter(self):\n",
    "        pass\n",
    "class circle(shape):\n",
    "    def __init__(self, radius):\n",
    "        self.radius = radius\n",
    "    def area(self):\n",
    "        return 3.14*self.radius**2\n",
    "    def perimeter(self):\n",
    "        return 2*3.14*self.radius\n",
    "circle = circle(10)\n",
    "circle.area()\n",
    "circle.perimeter()\n",
    "        "
   ]
  },
  {
   "cell_type": "markdown",
   "id": "66a70dd4",
   "metadata": {},
   "source": [
    "# 7. Create a program in python to demonstrate Polymorphism.\n",
    "1. Make use of private and protected members using python name mangling techniques"
   ]
  },
  {
   "cell_type": "code",
   "execution_count": 37,
   "id": "defafb14",
   "metadata": {},
   "outputs": [
    {
     "name": "stdout",
     "output_type": "stream",
     "text": [
      "Public Member: I am public!\n",
      "Protected Member: I am protected!\n",
      "Private Member: I am private!\n"
     ]
    }
   ],
   "source": [
    "class MyClass:\n",
    "    def __init__(self):\n",
    "        # Public member\n",
    "        self.public_member = \"I am public!\"\n",
    "\n",
    "        # Protected member using single underscore prefix\n",
    "        self._protected_member = \"I am protected!\"\n",
    "\n",
    "        # Private member using double underscore prefix\n",
    "        self.__private_member = \"I am private!\"\n",
    "\n",
    "    def get_private_member(self):\n",
    "        return self.__private_member\n",
    "\n",
    "\n",
    "# Create an instance of the class\n",
    "obj = MyClass()\n",
    "\n",
    "# Access public member\n",
    "print(\"Public Member:\", obj.public_member)\n",
    "\n",
    "# Access protected member\n",
    "print(\"Protected Member:\", obj._protected_member)\n",
    "\n",
    "# Access private member using the getter method\n",
    "print(\"Private Member:\", obj.get_private_member())\n",
    "\n",
    "# Attempt to access private member directly (will result in an AttributeError)\n",
    "# print(\"Direct Access to Private Member:\", obj.__private_member)\n"
   ]
  },
  {
   "cell_type": "markdown",
   "id": "243e1b33",
   "metadata": {},
   "source": [
    "# 8. Given a list of 50 natural numbers from 1-50. Create a function that will take every element\n",
    "from the list and return the square of each element. Use the python map and filter methods to\n",
    "implement the function on the given list."
   ]
  },
  {
   "cell_type": "code",
   "execution_count": 44,
   "id": "d92b189a",
   "metadata": {},
   "outputs": [
    {
     "data": {
      "text/plain": [
       "[1,\n",
       " 4,\n",
       " 9,\n",
       " 16,\n",
       " 25,\n",
       " 36,\n",
       " 49,\n",
       " 64,\n",
       " 81,\n",
       " 100,\n",
       " 121,\n",
       " 144,\n",
       " 169,\n",
       " 196,\n",
       " 225,\n",
       " 256,\n",
       " 289,\n",
       " 324,\n",
       " 361,\n",
       " 400,\n",
       " 441,\n",
       " 484,\n",
       " 529,\n",
       " 576,\n",
       " 625,\n",
       " 676,\n",
       " 729,\n",
       " 784,\n",
       " 841,\n",
       " 900,\n",
       " 961,\n",
       " 1024,\n",
       " 1089,\n",
       " 1156,\n",
       " 1225,\n",
       " 1296,\n",
       " 1369,\n",
       " 1444,\n",
       " 1521,\n",
       " 1600,\n",
       " 1681,\n",
       " 1764,\n",
       " 1849,\n",
       " 1936,\n",
       " 2025,\n",
       " 2116,\n",
       " 2209,\n",
       " 2304,\n",
       " 2401,\n",
       " 2500]"
      ]
     },
     "execution_count": 44,
     "metadata": {},
     "output_type": "execute_result"
    }
   ],
   "source": [
    "nNumbers = []\n",
    "for i in range(1, 51):\n",
    "    nNumbers.append(i)\n",
    "squareNumbers = list(map(lambda x: x**2, nNumbers))\n",
    "squareNumbers"
   ]
  },
  {
   "cell_type": "markdown",
   "id": "658a6050",
   "metadata": {},
   "source": [
    "# 9. Create a class, Triangle. Its init() method should take self, angle1, angle2, and angle3 as\n",
    "arguments"
   ]
  },
  {
   "cell_type": "code",
   "execution_count": 20,
   "id": "7f7c295b",
   "metadata": {},
   "outputs": [],
   "source": [
    "class Triangle:\n",
    "    def __init__(self, angle1, angle2, angle3):\n",
    "        self.angle1 = angle1\n",
    "        self.angle2 = angle2\n",
    "        self.angle3 = angle3\n",
    "        self.number_of_sides = 3\n",
    "    def check_angles(self):\n",
    "        if sum([self.angle1,self.angle2, self.angle3]) == 180:\n",
    "            print(\"Angles belong to a triangle\")\n",
    "            return True\n",
    "        else:\n",
    "            print(\"Angles doesn't belong to a triangle\")\n",
    "        return False\n",
    "    def is_acute_triangle(self):\n",
    "        sides = [self.angle1, self.angle1, self.angle1]\n",
    "        sides.sort()  # Sort the sides in ascending order\n",
    "        return sides[0]**2 + sides[1]**2 > sides[2]**2\n",
    "    def is_obtuse_triangle(self):\n",
    "        sides = [self.angle1, self.angle1, self.angle1]\n",
    "        sides.sort()  # Sort the sides in ascending order\n",
    "        return sides[0]**2 + sides[1]**2 < sides[2]**2        "
   ]
  },
  {
   "cell_type": "code",
   "execution_count": 21,
   "id": "38a524b1",
   "metadata": {},
   "outputs": [],
   "source": [
    "triangle = Triangle(10, 120,50)"
   ]
  },
  {
   "cell_type": "code",
   "execution_count": 26,
   "id": "372f037e",
   "metadata": {},
   "outputs": [
    {
     "name": "stdout",
     "output_type": "stream",
     "text": [
      "Angles belong to a triangle\n"
     ]
    },
    {
     "data": {
      "text/plain": [
       "False"
      ]
     },
     "execution_count": 26,
     "metadata": {},
     "output_type": "execute_result"
    }
   ],
   "source": [
    "triangle.check_angles()\n",
    "triangle.is_acute_triangle()\n",
    "triangle.is_obtuse_triangle()"
   ]
  },
  {
   "cell_type": "code",
   "execution_count": 38,
   "id": "6dfd83da",
   "metadata": {},
   "outputs": [],
   "source": [
    "class isosceles_triangle(Triangle):\n",
    "    def __init__(self, angle1,angle2,angle3):\n",
    "        super().__init__(angle1,angle2,angle3)\n",
    "    def is_isosceles(self):\n",
    "        if self.angle1 == self.angle2 or self.angle1 == self.angle3 or self.angle2 == self.angle3:\n",
    "            print(\"This is an Isosceles triangle.\")\n",
    "            return True\n",
    "        else:\n",
    "            print(\"This is not an Isosceles triangle.\")\n",
    "            return False\n",
    "class isright_triangle(Triangle):\n",
    "    def __init__(self, angle1,angle2,angle3):\n",
    "        super().__init__(angle1,angle2,angle3)\n",
    "    def is_right(self):\n",
    "        if 90 in [self.angle1, self.angle2, self.angle3]:\n",
    "            print(\"This is a Right triangle.\")\n",
    "            return True\n",
    "        else:\n",
    "            print(\"This is not a Right triangle.\")\n",
    "            return False\n",
    "class EquilateralTriangle(Triangle):\n",
    "    def __init__(self, equal_angle):\n",
    "        super().__init__(equal_angle, equal_angle, equal_angle)\n",
    "        self.type = \"Equilateral\"\n",
    "\n",
    "    def is_equilateral(self):\n",
    "        if self.angle1 == self.angle2 == self.angle3:\n",
    "            print(\"This is an Equilateral triangle.\")\n",
    "            return True\n",
    "        else:\n",
    "            print(\"This is not an Equilateral triangle.\")\n",
    "            return False\n",
    "class IsoscelesRightTriangle(isosceles_triangle, isright_triangle):\n",
    "    def __init__(self, angle1, angle2, angle3):\n",
    "        isosceles_triangle.__init__(self,angle1, angle2, angle3)\n",
    "        isright_triangle.__init__(self,angle1, angle2, angle3)\n",
    "        \n",
    "    def is_isosceles_right(self):\n",
    "        if self.is_isosceles() and self.is_right():\n",
    "            print(\"This is an Isosceles Right triangle.\")\n",
    "            return True\n",
    "        else:\n",
    "            print(\"This is not an Isosceles Right triangle.\")\n",
    "            return False\n"
   ]
  },
  {
   "cell_type": "code",
   "execution_count": 39,
   "id": "190b8503",
   "metadata": {},
   "outputs": [],
   "source": [
    "isoTriangle = IsoscelesRightTriangle(60,60,60)"
   ]
  },
  {
   "cell_type": "code",
   "execution_count": 40,
   "id": "47e7dfa3",
   "metadata": {},
   "outputs": [
    {
     "name": "stdout",
     "output_type": "stream",
     "text": [
      "This is an Isosceles triangle.\n",
      "This is not a Right triangle.\n",
      "This is not an Isosceles Right triangle.\n"
     ]
    },
    {
     "data": {
      "text/plain": [
       "False"
      ]
     },
     "execution_count": 40,
     "metadata": {},
     "output_type": "execute_result"
    }
   ],
   "source": [
    "isoTriangle.is_isosceles_right()"
   ]
  },
  {
   "cell_type": "code",
   "execution_count": 41,
   "id": "1ac26c43",
   "metadata": {},
   "outputs": [],
   "source": [
    "import numpy as np"
   ]
  },
  {
   "cell_type": "code",
   "execution_count": 42,
   "id": "2f957f89",
   "metadata": {},
   "outputs": [],
   "source": [
    "A = np.array([[4], [12], [29]])\n",
    "B = np.array([[13], [21], [4]])\n",
    "\n",
    "# Calculate the cross product\n",
    "cross_product = np.cross(A.flatten(), B.flatten())"
   ]
  },
  {
   "cell_type": "code",
   "execution_count": 43,
   "id": "d640037b",
   "metadata": {},
   "outputs": [
    {
     "data": {
      "text/plain": [
       "array([-561,  361,  -72])"
      ]
     },
     "execution_count": 43,
     "metadata": {},
     "output_type": "execute_result"
    }
   ],
   "source": [
    "cross_product"
   ]
  },
  {
   "cell_type": "code",
   "execution_count": null,
   "id": "a5ab426b",
   "metadata": {},
   "outputs": [],
   "source": []
  }
 ],
 "metadata": {
  "kernelspec": {
   "display_name": "Python 3 (ipykernel)",
   "language": "python",
   "name": "python3"
  },
  "language_info": {
   "codemirror_mode": {
    "name": "ipython",
    "version": 3
   },
   "file_extension": ".py",
   "mimetype": "text/x-python",
   "name": "python",
   "nbconvert_exporter": "python",
   "pygments_lexer": "ipython3",
   "version": "3.9.13"
  }
 },
 "nbformat": 4,
 "nbformat_minor": 5
}
