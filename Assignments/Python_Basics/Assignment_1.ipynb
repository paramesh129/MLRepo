{
 "cells": [
  {
   "cell_type": "markdown",
   "id": "74e2b396",
   "metadata": {},
   "source": [
    "# Using Python script as a calculator\n",
    "1. Create the variables n, r, p and assign them values 10, 5, and 100 respectively. Then evaluate the following expression in the Python console.\n",
    "𝐴 = 𝑝 (1 + 𝑟/ 100)n"
   ]
  },
  {
   "cell_type": "code",
   "execution_count": 33,
   "id": "1b68ab3c",
   "metadata": {},
   "outputs": [
    {
     "data": {
      "text/plain": [
       "162.8894626777442"
      ]
     },
     "execution_count": 33,
     "metadata": {},
     "output_type": "execute_result"
    }
   ],
   "source": [
    "n = 10\n",
    "r = 5\n",
    "p = 100\n",
    "A = p*(1+r/100)**n\n",
    "A"
   ]
  },
  {
   "cell_type": "markdown",
   "id": "7a49f4ea",
   "metadata": {},
   "source": [
    "Ans: option b"
   ]
  },
  {
   "cell_type": "markdown",
   "id": "8901e45f",
   "metadata": {},
   "source": [
    "2. In a given string format operation, how will you print the given string.\n",
    "A = 10\n",
    "B = 20\n",
    "Str = \"There are {} students in the class, with {} who play at least one sport.\""
   ]
  },
  {
   "cell_type": "code",
   "execution_count": 7,
   "id": "808e8da6",
   "metadata": {},
   "outputs": [],
   "source": [
    "A = 10\n",
    "B = 20\n",
    "Str = \"There are {} students in the class, with {} who play at least one sport.\""
   ]
  },
  {
   "cell_type": "markdown",
   "id": "372384b9",
   "metadata": {},
   "source": [
    "Ans: option d"
   ]
  },
  {
   "cell_type": "markdown",
   "id": "e9aa6478",
   "metadata": {},
   "source": [
    "3. In a given sample string, How do you print a double quoted string in between a regular\n",
    "string using the escape character?\n",
    "Sample output = It goes without saying, “Time is Money”, and none can deny it."
   ]
  },
  {
   "cell_type": "code",
   "execution_count": 30,
   "id": "a81349e1",
   "metadata": {},
   "outputs": [
    {
     "name": "stdout",
     "output_type": "stream",
     "text": [
      "It goes without saying,\"Time is Money\" and none can deny it.\n",
      "It goes without saying, \"Time is Money\", and none can deny it.\n"
     ]
    }
   ],
   "source": [
    "sampleStr = \"It goes without saying,\\\"{}\\\" and none can deny it.\"\n",
    "doubleQuotedStr = \"Time is Money\"\n",
    "CombinedStr = sampleStr.format(doubleQuotedStr)\n",
    "print(CombinedStr)\n",
    "print(\"It goes without saying, \\\"Time is Money\\\", and none can deny it.\")"
   ]
  },
  {
   "cell_type": "markdown",
   "id": "48b134d9",
   "metadata": {},
   "source": [
    "Ans: option A"
   ]
  },
  {
   "cell_type": "markdown",
   "id": "e36e25c4",
   "metadata": {},
   "source": [
    "4. x = lambda a,b: a//b\n",
    "x(10,3)"
   ]
  },
  {
   "cell_type": "code",
   "execution_count": 32,
   "id": "e79b4c05",
   "metadata": {},
   "outputs": [
    {
     "data": {
      "text/plain": [
       "3"
      ]
     },
     "execution_count": 32,
     "metadata": {},
     "output_type": "execute_result"
    }
   ],
   "source": [
    "x = lambda a,b: a//b \n",
    "x(10,3)"
   ]
  },
  {
   "cell_type": "markdown",
   "id": "0f63ab07",
   "metadata": {},
   "source": [
    "Ans: option b"
   ]
  },
  {
   "cell_type": "markdown",
   "id": "02ddec43",
   "metadata": {},
   "source": [
    "5.What will be the output of the following code?\n",
    "A = 10\n",
    "B = 12\n",
    "print(\"Smaller\") if A == B else print(\"Greater\") if A < B else print(\"True\")"
   ]
  },
  {
   "cell_type": "code",
   "execution_count": 37,
   "id": "26d78f18",
   "metadata": {},
   "outputs": [
    {
     "name": "stdout",
     "output_type": "stream",
     "text": [
      "Greater\n"
     ]
    }
   ],
   "source": [
    "A = 10 \n",
    "B = 12\n",
    "print(\"Smaller\") if A == B else print(\"Greater\") if A < B else print(\"True\")"
   ]
  },
  {
   "cell_type": "markdown",
   "id": "323f6d3c",
   "metadata": {},
   "source": [
    "Ans: option c"
   ]
  },
  {
   "cell_type": "markdown",
   "id": "85afa52f",
   "metadata": {},
   "source": [
    "6.What is the output of the following code\n",
    "\n",
    "import os\n",
    "import numpy as np\n",
    "my_list1 = [2,7,3,5,4,6]\n",
    "print(my_list1)\n",
    "arr1 = numpy.array(my_list1, dtype = int)"
   ]
  },
  {
   "cell_type": "code",
   "execution_count": 40,
   "id": "f35dc5b5",
   "metadata": {},
   "outputs": [
    {
     "name": "stdout",
     "output_type": "stream",
     "text": [
      "[2, 7, 3, 5, 4, 6]\n"
     ]
    },
    {
     "ename": "NameError",
     "evalue": "name 'numpy' is not defined",
     "output_type": "error",
     "traceback": [
      "\u001b[0;31m---------------------------------------------------------------------------\u001b[0m",
      "\u001b[0;31mNameError\u001b[0m                                 Traceback (most recent call last)",
      "\u001b[0;32m/var/folders/8m/8j813ypx66z5cpw7k24659z00000gp/T/ipykernel_5530/3857644290.py\u001b[0m in \u001b[0;36m<module>\u001b[0;34m\u001b[0m\n\u001b[1;32m      3\u001b[0m \u001b[0mmy_list1\u001b[0m \u001b[0;34m=\u001b[0m \u001b[0;34m[\u001b[0m\u001b[0;36m2\u001b[0m\u001b[0;34m,\u001b[0m\u001b[0;36m7\u001b[0m\u001b[0;34m,\u001b[0m\u001b[0;36m3\u001b[0m\u001b[0;34m,\u001b[0m\u001b[0;36m5\u001b[0m\u001b[0;34m,\u001b[0m\u001b[0;36m4\u001b[0m\u001b[0;34m,\u001b[0m\u001b[0;36m6\u001b[0m\u001b[0;34m]\u001b[0m\u001b[0;34m\u001b[0m\u001b[0;34m\u001b[0m\u001b[0m\n\u001b[1;32m      4\u001b[0m \u001b[0mprint\u001b[0m\u001b[0;34m(\u001b[0m\u001b[0mmy_list1\u001b[0m\u001b[0;34m)\u001b[0m\u001b[0;34m\u001b[0m\u001b[0;34m\u001b[0m\u001b[0m\n\u001b[0;32m----> 5\u001b[0;31m \u001b[0marr1\u001b[0m \u001b[0;34m=\u001b[0m \u001b[0mnumpy\u001b[0m\u001b[0;34m.\u001b[0m\u001b[0marray\u001b[0m\u001b[0;34m(\u001b[0m\u001b[0mmy_list1\u001b[0m\u001b[0;34m,\u001b[0m \u001b[0mdtype\u001b[0m \u001b[0;34m=\u001b[0m \u001b[0mint\u001b[0m\u001b[0;34m)\u001b[0m\u001b[0;34m\u001b[0m\u001b[0;34m\u001b[0m\u001b[0m\n\u001b[0m",
      "\u001b[0;31mNameError\u001b[0m: name 'numpy' is not defined"
     ]
    }
   ],
   "source": [
    "import os\n",
    "import numpy as np\n",
    "my_list1 = [2,7,3,5,4,6]\n",
    "print(my_list1)\n",
    "arr1 = numpy.array(my_list1, dtype = int)"
   ]
  },
  {
   "cell_type": "markdown",
   "id": "ef7e11b1",
   "metadata": {},
   "source": [
    "ans: option C"
   ]
  },
  {
   "cell_type": "markdown",
   "id": "905a0454",
   "metadata": {},
   "source": [
    "7. Create a string called ‘string’ with the value as “Machine Learning”. Which code(s) is/are appropriate to slice the substring “Learn”?"
   ]
  },
  {
   "cell_type": "code",
   "execution_count": 47,
   "id": "06bb1d6b",
   "metadata": {},
   "outputs": [],
   "source": [
    "string = \"Machine Learning\"\n",
    "\n",
    "subString = string[slice(8,13,1)]\n",
    "substring1 = string[8:14]"
   ]
  },
  {
   "cell_type": "code",
   "execution_count": 45,
   "id": "7101ae1e",
   "metadata": {},
   "outputs": [
    {
     "data": {
      "text/plain": [
       "'Learn'"
      ]
     },
     "execution_count": 45,
     "metadata": {},
     "output_type": "execute_result"
    }
   ],
   "source": [
    "subString"
   ]
  },
  {
   "cell_type": "code",
   "execution_count": 48,
   "id": "9209a1a6",
   "metadata": {},
   "outputs": [
    {
     "data": {
      "text/plain": [
       "'Learni'"
      ]
     },
     "execution_count": 48,
     "metadata": {},
     "output_type": "execute_result"
    }
   ],
   "source": [
    "substring1"
   ]
  },
  {
   "cell_type": "markdown",
   "id": "8a5af441",
   "metadata": {},
   "source": [
    "and: option d"
   ]
  },
  {
   "cell_type": "markdown",
   "id": "d596dfd7",
   "metadata": {},
   "source": [
    "8. Create a sequence of numbers from 10 to 25 and increment by 4. What is the index of the\n",
    "value 18?"
   ]
  },
  {
   "cell_type": "code",
   "execution_count": 49,
   "id": "bb135ccd",
   "metadata": {},
   "outputs": [],
   "source": [
    "mylist = [x for x in range(10, 25, 4)]"
   ]
  },
  {
   "cell_type": "code",
   "execution_count": 51,
   "id": "0c5fc49b",
   "metadata": {},
   "outputs": [
    {
     "data": {
      "text/plain": [
       "2"
      ]
     },
     "execution_count": 51,
     "metadata": {},
     "output_type": "execute_result"
    }
   ],
   "source": [
    "mylist.index(18)"
   ]
  },
  {
   "cell_type": "markdown",
   "id": "ecdd8099",
   "metadata": {},
   "source": [
    "ans: option b"
   ]
  },
  {
   "cell_type": "markdown",
   "id": "0b6e372f",
   "metadata": {},
   "source": [
    "9. Which of the following is true with respect to the below codes"
   ]
  },
  {
   "cell_type": "code",
   "execution_count": 52,
   "id": "505e8b36",
   "metadata": {},
   "outputs": [],
   "source": [
    "num1 = 5**4\n",
    "num2 = pow(5,4)"
   ]
  },
  {
   "cell_type": "code",
   "execution_count": 53,
   "id": "b3946b03",
   "metadata": {},
   "outputs": [
    {
     "name": "stdout",
     "output_type": "stream",
     "text": [
      "625 625\n"
     ]
    }
   ],
   "source": [
    "print(num1, num2)"
   ]
  },
  {
   "cell_type": "markdown",
   "id": "02c0716e",
   "metadata": {},
   "source": [
    "ans: option A"
   ]
  },
  {
   "cell_type": "markdown",
   "id": "ba0c62a9",
   "metadata": {},
   "source": [
    "10. A Python NameError exception is raised when:\n",
    "a. Trying to access a variable which has not been defined\n",
    "b. Trying to access a key in a dictionary that does not exist\n",
    "c. Accessing a column with misspelled column name\n",
    "d. Accessing the function from a module that has not been imported"
   ]
  },
  {
   "cell_type": "markdown",
   "id": "97cd8c51",
   "metadata": {},
   "source": [
    "Ans: option d"
   ]
  },
  {
   "cell_type": "markdown",
   "id": "93ed0cf3",
   "metadata": {},
   "source": [
    "11.What type of exception will be raised for the code given below?\n",
    "\n",
    "x = \"String\"\n",
    "int(x)\n",
    "\n",
    "a. NameError \n",
    "b. KeyError\n",
    "c. ValueError\n",
    "d. AttributeError"
   ]
  },
  {
   "cell_type": "markdown",
   "id": "650d2d7f",
   "metadata": {},
   "source": [
    "Ans: option c"
   ]
  },
  {
   "cell_type": "markdown",
   "id": "24d9291b",
   "metadata": {},
   "source": [
    "12. A FileNotFoundError exception is raised by operating system errors when: -\n",
    "a. Trying to create a file or directory which already exists\n",
    "b. A file or directory is requested but does not exist in the working directory\n",
    "c. Trying to run an operation without the adequate access rights\n",
    "d. A directory operation, os.listdir() is requested on something which is not a\n",
    "directory"
   ]
  },
  {
   "cell_type": "markdown",
   "id": "632ea1ee",
   "metadata": {},
   "source": [
    "ans: option B"
   ]
  },
  {
   "cell_type": "markdown",
   "id": "ac2a40f6",
   "metadata": {},
   "source": [
    "13. Consider a variable Z. The value of Z is \"ID-5632\". Data type of Z is: - a. Complex\n",
    "b. Character c. Integer\n",
    "d. Boolean"
   ]
  },
  {
   "cell_type": "markdown",
   "id": "1e86d944",
   "metadata": {},
   "source": [
    "ans: option B"
   ]
  },
  {
   "cell_type": "markdown",
   "id": "9fc05bc5",
   "metadata": {},
   "source": [
    "14.Which of the following variable(s) are character data type?\n",
    "a. K= “4”\n",
    "b. J= “Welcome” c. L= “?”\n",
    "d. All of the above"
   ]
  },
  {
   "cell_type": "markdown",
   "id": "8a0c3adf",
   "metadata": {},
   "source": [
    "ans: option d"
   ]
  },
  {
   "cell_type": "markdown",
   "id": "7f57ad44",
   "metadata": {},
   "source": [
    "15.Choose the symbol/s that does not have the ability to convert any values to string?\n",
    "a. ( ) b. “ ” c. {} d. #"
   ]
  },
  {
   "cell_type": "markdown",
   "id": "1958253e",
   "metadata": {},
   "source": [
    "ans: option d"
   ]
  },
  {
   "cell_type": "markdown",
   "id": "2342ca6b",
   "metadata": {},
   "source": [
    "16.Create a dictionary ‘Country’ that maps the following countries to their capitals respectively,\n",
    "\n",
    "Find 2 commands to replace “Marseilles” with “Paris” is:"
   ]
  },
  {
   "cell_type": "code",
   "execution_count": 77,
   "id": "ecb71c21",
   "metadata": {},
   "outputs": [],
   "source": [
    "my_dict = {\"Country\": [\"India\",\"China\",\"Japan\",\"Qatar\", \"France\"], \"State\":[\"Delhi\",\"Beijing\",\"Tokyo\",\"Doha\",\"Marseilles\"]}"
   ]
  },
  {
   "cell_type": "code",
   "execution_count": 84,
   "id": "aa06eb08",
   "metadata": {},
   "outputs": [],
   "source": [
    "index_to_replace = my_dict[\"State\"].index(\"Marseilles\")\n",
    "my_dict[\"State\"][index_to_replace] = \"Paris\""
   ]
  },
  {
   "cell_type": "code",
   "execution_count": 92,
   "id": "d2975f8a",
   "metadata": {},
   "outputs": [],
   "source": [
    "my_dict[\"State\"] = [\"Paris\" if state == \"Marseilles\" else state for state in my_dict[\"State\"]] "
   ]
  },
  {
   "cell_type": "code",
   "execution_count": 93,
   "id": "b6eb42fa",
   "metadata": {},
   "outputs": [
    {
     "data": {
      "text/plain": [
       "{'Country': ['India', 'China', 'Japan', 'Qatar', 'France'],\n",
       " 'State': ['Delhi', 'Beijing', 'Tokyo', 'Doha', 'Paris']}"
      ]
     },
     "execution_count": 93,
     "metadata": {},
     "output_type": "execute_result"
    }
   ],
   "source": [
    "my_dict"
   ]
  },
  {
   "cell_type": "markdown",
   "id": "6a2e9600",
   "metadata": {},
   "source": [
    "17. Create the tuples given below tuple_1 = (1,5,6,7,8)\n",
    "tuple_2 = (8,9,4)\n",
    "Identify which of the following code does not work on a tuple.\n",
    "a. sum(tuple_1)\n",
    "b. len(tuple_2)\n",
    "c. tuple_2 + tuple_1 d. tuple_1[3] = 45"
   ]
  },
  {
   "cell_type": "markdown",
   "id": "ea0f94fe",
   "metadata": {},
   "source": [
    "Ans: option d"
   ]
  },
  {
   "cell_type": "markdown",
   "id": "2f617fb3",
   "metadata": {},
   "source": [
    "18. How many elements in the following data structure?\n",
    "\n",
    "s = {1,2,3,4,4,4,5,6}\n"
   ]
  },
  {
   "cell_type": "code",
   "execution_count": 101,
   "id": "be712287",
   "metadata": {},
   "outputs": [],
   "source": [
    "s = {1,2,3,4,4,4,5,6}"
   ]
  },
  {
   "cell_type": "markdown",
   "id": "1c366572",
   "metadata": {},
   "source": [
    "ans: 6"
   ]
  },
  {
   "cell_type": "markdown",
   "id": "354a5baf",
   "metadata": {},
   "source": [
    "19. Write a function which finds all pythagorean triplets of triangles whose sides are no greater than a natural number N."
   ]
  },
  {
   "cell_type": "code",
   "execution_count": 109,
   "id": "5490e15d",
   "metadata": {},
   "outputs": [],
   "source": [
    "def pythagorean_triplets(N):\n",
    "    triplets = []\n",
    "    for a in range(1, N + 1):\n",
    "        for b in range(a, N + 1):\n",
    "            c = (a**2 + b**2)**0.5\n",
    "            if c.is_integer() and c <= N:\n",
    "                triplets.append((a, b, int(c)))\n",
    "    return triplets"
   ]
  },
  {
   "cell_type": "code",
   "execution_count": 111,
   "id": "f7994448",
   "metadata": {},
   "outputs": [
    {
     "data": {
      "text/plain": [
       "[(3, 4, 5), (5, 12, 13), (6, 8, 10), (8, 15, 17), (9, 12, 15), (12, 16, 20)]"
      ]
     },
     "execution_count": 111,
     "metadata": {},
     "output_type": "execute_result"
    }
   ],
   "source": [
    "pythagorean_triplets(20)"
   ]
  },
  {
   "cell_type": "code",
   "execution_count": null,
   "id": "fa02b596",
   "metadata": {},
   "outputs": [],
   "source": []
  }
 ],
 "metadata": {
  "kernelspec": {
   "display_name": "Python 3 (ipykernel)",
   "language": "python",
   "name": "python3"
  },
  "language_info": {
   "codemirror_mode": {
    "name": "ipython",
    "version": 3
   },
   "file_extension": ".py",
   "mimetype": "text/x-python",
   "name": "python",
   "nbconvert_exporter": "python",
   "pygments_lexer": "ipython3",
   "version": "3.9.13"
  }
 },
 "nbformat": 4,
 "nbformat_minor": 5
}
